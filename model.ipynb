{
  "nbformat": 4,
  "nbformat_minor": 0,
  "metadata": {
    "colab": {
      "provenance": [],
      "gpuType": "T4",
      "authorship_tag": "ABX9TyOe0CkRdUSTZcquN8SkGy6T",
      "include_colab_link": true
    },
    "kernelspec": {
      "name": "python3",
      "display_name": "Python 3"
    },
    "language_info": {
      "name": "python"
    },
    "accelerator": "GPU"
  },
  "cells": [
    {
      "cell_type": "markdown",
      "metadata": {
        "id": "view-in-github",
        "colab_type": "text"
      },
      "source": [
        "<a href=\"https://colab.research.google.com/github/libraun/seq2seq_gen/blob/main/model.ipynb\" target=\"_parent\"><img src=\"https://colab.research.google.com/assets/colab-badge.svg\" alt=\"Open In Colab\"/></a>"
      ]
    },
    {
      "cell_type": "code",
      "execution_count": null,
      "metadata": {
        "id": "hEopCWeI2wPh"
      },
      "outputs": [],
      "source": [
        "import re\n",
        "import numpy as np\n",
        "from collections import Counter\n",
        "import pandas as pd\n",
        "\n",
        "import nltk\n",
        "\n",
        "import random\n",
        "import math\n",
        "\n",
        "random.seed(12)\n",
        "\n",
        "import torch\n",
        "from torchtext.vocab import vocab\n",
        "from torch.nn.utils.rnn import pad_sequence\n",
        "import torch.nn as nn\n",
        "import torch.nn.functional as F\n",
        "import torch.optim as optim\n",
        "from torch.utils.data import DataLoader\n",
        "from torchtext.data.utils import get_tokenizer\n",
        "\n",
        "from torch.nn.utils.rnn import pad_sequence\n",
        "\n",
        "import spacy"
      ]
    },
    {
      "cell_type": "code",
      "source": [
        "#from google.colab import drive\n",
        "#drive.mount('/content/drive')"
      ],
      "metadata": {
        "id": "Ez4onxl_sPcg"
      },
      "execution_count": null,
      "outputs": []
    },
    {
      "cell_type": "code",
      "source": [
        "MASK_RATIO = 0.0\n",
        "MASK_TOKENS = False\n",
        "def mask(sequence: torch.tensor):\n",
        "  trg_masked_tokens = math.floor(len(sequence) * MASK_RATIO)\n",
        "  indices = [_ for _ in range(len(sequence))]\n",
        "  for idx in random.sample(indices, k=trg_masked_tokens):\n",
        "    sequence[idx] = MASK_IDX"
      ],
      "metadata": {
        "id": "e6QqtGfv7irV"
      },
      "execution_count": null,
      "outputs": []
    },
    {
      "cell_type": "code",
      "source": [
        "#INPUT_FILEPATH = \"/content/drive/MyDrive/advertisement_data.csv\"\n",
        "OUTPUT_FILEPATH = \"result_strings.txt\" # Path to place predicted strings\n",
        "\n",
        "MODEL_FILE = \"Seq2Seq_lit.pt\"\n",
        "LOAD_FROM_FILE = False\n",
        "\n",
        "#df = pd.read_csv(INPUT_FILEPATH, encoding='utf8')\n",
        "try:\n",
        "  data = nltk.corpus.gutenberg.sents(\"austen-emma.txt\")\n",
        "except:\n",
        "  nltk.download('punkt')\n",
        "  nltk.download('gutenberg')\n",
        "\n",
        "data = nltk.corpus.gutenberg.sents(\"austen-emma.txt\")\n",
        "text_inputs = [\" \".join([w for w in data[i]]) for i in range(0,len(data),2)]\n",
        "text_outputs = [\" \".join([w for w in data[i+1]]) for i in range(0,len(data),2)]\n",
        "#text_inputs = df[\"product\"] + ' ' + df[\"description\"]\n",
        "#text_outputs = df[\"ad\"]"
      ],
      "metadata": {
        "id": "NEe8sN2mey0L"
      },
      "execution_count": null,
      "outputs": []
    },
    {
      "cell_type": "code",
      "source": [
        "device = torch.device('cuda' if torch.cuda.is_available() else 'cpu')\n",
        "NUM_EPOCHS = 40"
      ],
      "metadata": {
        "id": "MYX-IjP927fM"
      },
      "execution_count": null,
      "outputs": []
    },
    {
      "cell_type": "code",
      "source": [
        "PUNCTUATION_PATTERN = re.compile('[\\\"\\?\\!\\'\\;\\.\\]\\&-\\[><\\}&\\-+={]')\n",
        "REPEAT_WHITESPACE_PATTERN = re.compile(' {2,}')\n",
        "\n",
        "# Randomize the words in a sentence for crossentropy loss\n",
        "def update_encoder_dict(encoder_dict, words: list, randomize: bool):\n",
        "  if randomize: random.shuffle(words)\n",
        "  encoder_dict.update(words)\n",
        "\n",
        "# Preprocess data, storing the preprocessed stringsd\n",
        "# back into data.\n",
        "def preprocess(data, out, tokenizer, random_encodings: bool):\n",
        "  for i, line in enumerate(data):\n",
        "    line = re.sub(PUNCTUATION_PATTERN, ' ', line.lower())\n",
        "    line = \" \".join([w for w in tokenizer(line) \\\n",
        "        if '\\\\' not in str(w.encode('utf8')) and w.isalpha()])\n",
        "    line = re.sub(REPEAT_WHITESPACE_PATTERN, '', line)\n",
        "    line = re.sub('\\t','',line)\n",
        "    data[i] = line\n",
        "\n",
        "token_to_idx = Counter()\n",
        "\n",
        "tokenizer = get_tokenizer(\"spacy\",language=\"en_core_web_sm\")\n",
        "preprocess(text_inputs, token_to_idx, tokenizer, True)\n",
        "preprocess(text_outputs, token_to_idx, tokenizer, True)\n",
        "\n",
        "for i in range(len(text_inputs)):\n",
        "  in_line = text_inputs[i]\n",
        "  out_line = text_outputs[i]\n",
        "\n",
        "  joined_sent = in_line + ' ' + out_line\n",
        "  joined_sent = re.sub(REPEAT_WHITESPACE_PATTERN, ' ', joined_sent)\n",
        "  update_encoder_dict(token_to_idx, tokenizer(joined_sent), randomize=True)"
      ],
      "metadata": {
        "id": "ewPyLC1LkVh2"
      },
      "execution_count": null,
      "outputs": []
    },
    {
      "cell_type": "code",
      "source": [
        "specials = [\"<unk>\",\"<pad>\",\"<bos>\",\"<eos>\"] # Special words for tokenizer.\n",
        "\n",
        "if MASK_TOKENS: # Append a \"<mask>\" token to specials if masking enabled.\n",
        "  specials.append(\"<mask>\")\n",
        "\n",
        "en_vocab = vocab(token_to_idx,specials=specials)\n",
        "en_vocab.set_default_index(en_vocab[\"<unk>\"])\n",
        "\n",
        "PAD_IDX = en_vocab[\"<pad>\"]\n",
        "BOS_IDX = en_vocab[\"<bos>\"]\n",
        "EOS_IDX = en_vocab[\"<eos>\"]\n",
        "# Enable mask idx if masking enabled.\n",
        "if MASK_TOKENS:\n",
        "  MASK_IDX = en_vocab[\"<mask>\"]"
      ],
      "metadata": {
        "id": "wEzdJUno297t"
      },
      "execution_count": null,
      "outputs": []
    },
    {
      "cell_type": "code",
      "source": [
        "data = []\n",
        "# Iterate over all data (src & trg), tokenize,\n",
        "# and make tensors. If masking is enabled, mask before adding to data.\n",
        "for i in range(len(text_inputs)):\n",
        "  input_i = tokenizer(text_inputs[i])\n",
        "  output_i = tokenizer(text_outputs[i])\n",
        "\n",
        "  input_tensor = torch.tensor([en_vocab[word] for word in input_i],\n",
        "                              dtype=torch.long)\n",
        "  output_tensor = torch.tensor([en_vocab[word] for word in output_i],\n",
        "                               dtype=torch.long)\n",
        "  # Mask tokens ONLY FOR TRAINING DATA\n",
        "  #MASK_TOKENS = i < 1000\n",
        "  #if MASK_TOKENS:\n",
        "   # mask(input_tensor); mask(output_tensor)\n",
        "  data.append((input_tensor, output_tensor))\n",
        "# Split lines into train,validation,& testing datasets respectively.\n",
        "\n",
        "train_data = data[ : 3100 ]\n",
        "valid_data = data[ 3100 : 3850 ]\n",
        "test_data = data[ 3850 : ]\n",
        "\n",
        "print(len(train_data), len(valid_data), len(test_data))"
      ],
      "metadata": {
        "id": "MryayD3N2-kH",
        "colab": {
          "base_uri": "https://localhost:8080/"
        },
        "outputId": "3058185e-c616-4c70-9ad9-2990a6441246"
      },
      "execution_count": null,
      "outputs": [
        {
          "output_type": "stream",
          "name": "stdout",
          "text": [
            "3100 750 26\n"
          ]
        }
      ]
    },
    {
      "cell_type": "code",
      "source": [
        "class Encoder(nn.Module):\n",
        "  def __init__(self,input_dim,emb_dim,hid_dim,n_layers,dropout,device):\n",
        "    super().__init__()\n",
        "    self.embedding = nn.Embedding(input_dim, emb_dim,\n",
        "                                  padding_idx=PAD_IDX,\n",
        "                                  device=device)\n",
        "    self.dropout = nn.Dropout(p=dropout)\n",
        "    self.rnn = nn.LSTM(emb_dim, hid_dim,\n",
        "                       num_layers=n_layers,\n",
        "                       dropout=dropout)\n",
        "  def forward(self,src):\n",
        "    embedded = self.dropout(self.embedding(src))\n",
        "    outputs, (hidden, cell) = self.rnn(embedded)\n",
        "    return hidden, cell\n",
        "\n",
        "class Decoder(nn.Module):\n",
        "  def __init__(self,d_model,emb_dim,hid_dim,n_layers,dropout,device):\n",
        "    super().__init__()\n",
        "    self.output_dim = d_model\n",
        "    self.embedding = nn.Embedding(d_model, emb_dim,\n",
        "                                  padding_idx=PAD_IDX,\n",
        "                                  device=device)\n",
        "    self.dropout = nn.Dropout(dropout)\n",
        "    self.rnn = nn.LSTM(emb_dim, hid_dim,\n",
        "                       num_layers=n_layers,\n",
        "                       dropout=dropout)\n",
        "    self.fc_out = nn.Linear(hid_dim, d_model)\n",
        "\n",
        "  def forward(self, input, hidden, cell):\n",
        "    input = input.unsqueeze(0)\n",
        "    embedded = self.dropout(self.embedding(input))\n",
        "    output, (hidden, cell) = self.rnn(embedded)\n",
        "    prediction = self.fc_out(output.squeeze(0))\n",
        "    return prediction, hidden, cell\n",
        "class Seq2Seq(nn.Module):\n",
        "  def __init__(self, encoder, decoder, device):\n",
        "    super().__init__()\n",
        "    self.encoder = encoder\n",
        "    self.decoder = decoder\n",
        "    self.device = device\n",
        "  def forward(self, src, trg):\n",
        "    batch_size = trg.shape[1]\n",
        "    trg_len = trg.shape[0]\n",
        "    trg_vocab_size = self.decoder.output_dim\n",
        "    outputs = torch.zeros(trg_len, batch_size, trg_vocab_size).to(self.device)\n",
        "    hidden, cell = self.encoder.forward(src)\n",
        "    input = trg[0]\n",
        "    for i, input_seq in enumerate(trg):\n",
        "      output, hidden, cell = self.decoder.forward(input_seq, hidden, cell)\n",
        "      outputs[i] = output\n",
        "    return outputs"
      ],
      "metadata": {
        "id": "amoEdDZV3CDP"
      },
      "execution_count": null,
      "outputs": []
    },
    {
      "cell_type": "code",
      "source": [
        "VOCAB_SIZE = len(en_vocab.vocab)\n",
        "EMB_DIM = 512\n",
        "DROPOUT = 0.5\n",
        "HID_DIM = 256\n",
        "N_LAYERS = 2\n",
        "BATCH_SIZE = 128\n",
        "\n",
        "encoder = Encoder(VOCAB_SIZE,EMB_DIM,HID_DIM,N_LAYERS,DROPOUT,device)\n",
        "decoder = Decoder(VOCAB_SIZE,EMB_DIM,HID_DIM,N_LAYERS,DROPOUT,device)\n",
        "model = Seq2Seq(encoder, decoder, device).to(device)\n",
        "\n",
        "if LOAD_FROM_FILE:\n",
        "  model.load_state_dict(torch.load(MODEL_FILE))\n",
        "\n",
        "def init_weights(m):\n",
        "  for _, param in m.named_parameters():\n",
        "    nn.init.uniform_(param.data, -0.08, 0.08)\n",
        "\n",
        "#model.apply(init_weights)"
      ],
      "metadata": {
        "id": "Nb6NgoWckt0l"
      },
      "execution_count": null,
      "outputs": []
    },
    {
      "cell_type": "code",
      "source": [
        "optimizer = optim.Adam(model.parameters())\n",
        "criterion = nn.CrossEntropyLoss(ignore_index=PAD_IDX)"
      ],
      "metadata": {
        "id": "rI8T54WakkKW"
      },
      "execution_count": null,
      "outputs": []
    },
    {
      "cell_type": "code",
      "source": [
        "def collate(data_batch):\n",
        "  in_batch,out_batch = [],[]\n",
        "  for (in_item, out_item) in data_batch:\n",
        "    in_batch.append(torch.cat([\n",
        "        torch.tensor([BOS_IDX],dtype=torch.long),\n",
        "        in_item,\n",
        "        torch.tensor([EOS_IDX],dtype=torch.long)],dim=0))\n",
        "    out_batch.append(torch.cat([\n",
        "        torch.tensor([BOS_IDX],dtype=torch.long),\n",
        "        out_item,\n",
        "        torch.tensor([EOS_IDX],dtype=torch.long)],dim=0))\n",
        "  in_batch = pad_sequence(in_batch, padding_value=PAD_IDX)\n",
        "  out_batch = pad_sequence(out_batch, padding_value=PAD_IDX)\n",
        "  return in_batch,out_batch\n",
        "\n",
        "train_iter = DataLoader(train_data, batch_size=BATCH_SIZE,shuffle=True,collate_fn=collate)\n",
        "valid_iter = DataLoader(valid_data, batch_size=BATCH_SIZE,shuffle=True,collate_fn=collate)\n",
        "test_iter = DataLoader(test_data, batch_size=BATCH_SIZE,shuffle=True,collate_fn=collate)"
      ],
      "metadata": {
        "id": "qUgmgiAByZNF"
      },
      "execution_count": null,
      "outputs": []
    },
    {
      "cell_type": "code",
      "source": [
        "def evaluate(iter):\n",
        "  model.eval()\n",
        "  epoch_loss = 0\n",
        "  with torch.no_grad():\n",
        "    for src, trg in iter:\n",
        "      src,trg = src.to(device), trg.to(device)\n",
        "      output = model(src, trg)\n",
        "      output_dim = output.shape[-1]\n",
        "      output = output[1:].view(-1, output_dim)\n",
        "      trg = trg[1:].view(-1)\n",
        "      loss = criterion(output, trg)\n",
        "      epoch_loss += loss.item()\n",
        "  return epoch_loss / len(iter)"
      ],
      "metadata": {
        "id": "3nMsElRPrga1"
      },
      "execution_count": null,
      "outputs": []
    },
    {
      "cell_type": "code",
      "source": [
        "UPDATE_MSG = \"Epoch {n}: Train loss={t_loss:.2f} | Eval loss = {e_loss:.2f}\"\n",
        "def train(log_msg=True):\n",
        "  train_loss_values = []\n",
        "  validation_loss_values = []\n",
        "  for i in range(NUM_EPOCHS):\n",
        "    epoch_loss = 0\n",
        "    model.train() # Set training to true\n",
        "    for src, trg in train_iter:\n",
        "      src, trg = src.to(device), trg.to(device)\n",
        "      optimizer.zero_grad()\n",
        "      output = model(src, trg)\n",
        "      output_dim = output.shape[-1]\n",
        "      output = output[1:].view(-1, output_dim)\n",
        "      trg = trg[1:].view(-1)\n",
        "      loss = criterion(output,trg)\n",
        "      loss.backward()\n",
        "      torch.nn.utils.clip_grad_norm_(model.parameters(), 1)\n",
        "      optimizer.step()\n",
        "      epoch_loss += loss.item()\n",
        "    # Add mean loss value as epoch loss.\n",
        "    epoch_loss = epoch_loss / len(train_iter)\n",
        "    val_loss = evaluate(valid_iter)\n",
        "\n",
        "    train_loss_values.append(epoch_loss)\n",
        "    validation_loss_values.append(val_loss)\n",
        "\n",
        "    if log_msg: # Output epoch progress if log_msg is enabled.\n",
        "      print(UPDATE_MSG.format(n = i + 1,\n",
        "                              t_loss = epoch_loss,\n",
        "                              e_loss = val_loss))\n",
        "  return train_loss_values, validation_loss_values"
      ],
      "metadata": {
        "id": "eIZUV7ASZUtq"
      },
      "execution_count": null,
      "outputs": []
    },
    {
      "cell_type": "code",
      "source": [
        "train_losses, val_losses = train()\n",
        "torch.save(model.state_dict(),MODEL_FILE)\n",
        "\n",
        "\n",
        "\n",
        "test_loss = evaluate(test_iter)"
      ],
      "metadata": {
        "id": "czLVsZek3E_Z",
        "colab": {
          "base_uri": "https://localhost:8080/"
        },
        "outputId": "04087194-a8f1-45e0-fdb9-8c293f3b9a09"
      },
      "execution_count": null,
      "outputs": [
        {
          "output_type": "stream",
          "name": "stdout",
          "text": [
            "Epoch 1: Train loss=9.26 | Eval loss = 8.05\n",
            "Epoch 2: Train loss=6.36 | Eval loss = 5.00\n",
            "Epoch 3: Train loss=4.57 | Eval loss = 4.03\n",
            "Epoch 4: Train loss=3.79 | Eval loss = 3.46\n",
            "Epoch 5: Train loss=3.29 | Eval loss = 3.11\n",
            "Epoch 6: Train loss=2.93 | Eval loss = 2.84\n",
            "Epoch 7: Train loss=2.66 | Eval loss = 2.63\n",
            "Epoch 8: Train loss=2.42 | Eval loss = 2.47\n",
            "Epoch 9: Train loss=2.23 | Eval loss = 2.35\n",
            "Epoch 10: Train loss=2.08 | Eval loss = 2.24\n",
            "Epoch 11: Train loss=1.94 | Eval loss = 2.17\n",
            "Epoch 12: Train loss=1.82 | Eval loss = 2.11\n",
            "Epoch 13: Train loss=1.70 | Eval loss = 2.05\n",
            "Epoch 14: Train loss=1.62 | Eval loss = 2.00\n",
            "Epoch 15: Train loss=1.53 | Eval loss = 1.96\n",
            "Epoch 16: Train loss=1.45 | Eval loss = 1.93\n",
            "Epoch 17: Train loss=1.38 | Eval loss = 1.91\n",
            "Epoch 18: Train loss=1.31 | Eval loss = 1.88\n",
            "Epoch 19: Train loss=1.25 | Eval loss = 1.85\n",
            "Epoch 20: Train loss=1.18 | Eval loss = 1.84\n",
            "Epoch 21: Train loss=1.13 | Eval loss = 1.83\n",
            "Epoch 22: Train loss=1.09 | Eval loss = 1.81\n",
            "Epoch 23: Train loss=1.05 | Eval loss = 1.81\n",
            "Epoch 24: Train loss=1.00 | Eval loss = 1.80\n",
            "Epoch 25: Train loss=0.96 | Eval loss = 1.79\n",
            "Epoch 26: Train loss=0.91 | Eval loss = 1.79\n",
            "Epoch 27: Train loss=0.88 | Eval loss = 1.79\n",
            "Epoch 28: Train loss=0.84 | Eval loss = 1.78\n",
            "Epoch 29: Train loss=0.80 | Eval loss = 1.78\n",
            "Epoch 30: Train loss=0.78 | Eval loss = 1.78\n",
            "Epoch 31: Train loss=0.75 | Eval loss = 1.78\n",
            "Epoch 32: Train loss=0.71 | Eval loss = 1.78\n",
            "Epoch 33: Train loss=0.69 | Eval loss = 1.78\n",
            "Epoch 34: Train loss=0.66 | Eval loss = 1.78\n",
            "Epoch 35: Train loss=0.63 | Eval loss = 1.78\n",
            "Epoch 36: Train loss=0.61 | Eval loss = 1.78\n",
            "Epoch 37: Train loss=0.59 | Eval loss = 1.80\n",
            "Epoch 38: Train loss=0.57 | Eval loss = 1.79\n",
            "Epoch 39: Train loss=0.54 | Eval loss = 1.81\n",
            "Epoch 40: Train loss=0.52 | Eval loss = 1.80\n"
          ]
        }
      ]
    },
    {
      "cell_type": "code",
      "source": [
        "itos = en_vocab.vocab.get_itos() # Index to string (for getting words)\n",
        "model.eval()\n",
        "output_sents = [] # List of output sentences predicted by model\n",
        "print(\"Total params: \", model.params())\n",
        "with torch.no_grad():\n",
        "  for src,trg in test_iter:\n",
        "    src,trg = src.to(device),trg.to(device)\n",
        "    output = model(src, trg)\n",
        "    out_view = output.argmax(1).argmax(1)\n",
        "    str_out = \" \".join([itos[w] for w in out_view if w > 3])\n",
        "    output_sents.append(str_out)\n",
        "# Evaluate Testing Data\n",
        "test_acc = evaluate(test_iter)\n",
        "# Append each sent to file\n",
        "for i, sent in enumerate(output_sents):\n",
        "  print(sent)\n",
        "  with open(OUTPUT_FILEPATH,\"a\") as f:\n",
        "    f.write(sent)"
      ],
      "metadata": {
        "id": "eYXS-s_ZEH7M",
        "colab": {
          "base_uri": "https://localhost:8080/"
        },
        "outputId": "b324c444-3ff8-43df-d11a-b71664487faa"
      },
      "execution_count": null,
      "outputs": [
        {
          "output_type": "stream",
          "name": "stdout",
          "text": [
            "being fond and and by emma to a lived happy existenceand a a emma by fatherand chapter and by remembrance by chapter mistress too little and by woodhousehandsomecleverand chapter a a fatherand emma volume dispositionseemed jane emma woodhousehandsomecleverand jane emma by emma and i chapter i chapter i\n"
          ]
        }
      ]
    },
    {
      "cell_type": "code",
      "source": [
        "import matplotlib.pyplot as plt\n",
        "\n",
        "# Plotting loss for training set\n",
        "plt.scatter([i for i in range(NUM_EPOCHS)], train_losses)\n",
        "plt.plot([i for i in range(NUM_EPOCHS)], train_losses)\n",
        "\n",
        "# Plotting loss for validation set\n",
        "plt.scatter([i for i in range(NUM_EPOCHS)], val_losses)\n",
        "plt.plot([i for i in range(NUM_EPOCHS)], val_losses)\n",
        "\n",
        "plt.ylabel(\"Loss (Cross-Entropy)\")\n",
        "plt.xlabel(\"Training Intervals\")"
      ],
      "metadata": {
        "id": "0Ias-1vP_dMv",
        "colab": {
          "base_uri": "https://localhost:8080/",
          "height": 504
        },
        "outputId": "9d919ad1-b5b7-434a-a04b-63f6ec138c34"
      },
      "execution_count": null,
      "outputs": [
        {
          "output_type": "stream",
          "name": "stdout",
          "text": [
            "[8.050164063771566, 5.000709931055705, 4.025199135144551, 3.462732950846354, 3.107094883918762, 2.8369223276774087, 2.6255303223927817, 2.473153988520304, 2.349665323893229, 2.2351775964101157, 2.1688478191693625, 2.105809132258097, 2.0491684675216675, 1.9955472747484844, 1.9556129972139995, 1.9272026817003887, 1.9055343866348267, 1.8752751151720684, 1.8484165668487549, 1.8376752535502117, 1.8254522681236267, 1.811396022637685, 1.8138175408045452, 1.7991627057393391, 1.7928839524586995, 1.7917455037434895, 1.7890502214431763, 1.7785317103068035, 1.7777408361434937, 1.7763645251592, 1.7752293546994526, 1.7757134040196736, 1.7817357182502747, 1.7809744874636333, 1.7836223045984905, 1.7822164098421733, 1.800281246503194, 1.7944048444430034, 1.8072867790857952, 1.8037774364153545]\n"
          ]
        },
        {
          "output_type": "execute_result",
          "data": {
            "text/plain": [
              "Text(0.5, 0, 'Training Intervals')"
            ]
          },
          "metadata": {},
          "execution_count": 24
        },
        {
          "output_type": "display_data",
          "data": {
            "text/plain": [
              "<Figure size 640x480 with 1 Axes>"
            ],
            "image/png": "[encoded data removed]"
          },
          "metadata": {}
        }
      ]
    }
  ]
}